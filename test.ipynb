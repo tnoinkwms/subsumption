{
 "cells": [
  {
   "cell_type": "code",
   "execution_count": 1,
   "metadata": {},
   "outputs": [
    {
     "name": "stdout",
     "output_type": "stream",
     "text": [
      "[0, 1, 0]\n",
      "['B', 2, 1] <class 'list'>\n"
     ]
    }
   ],
   "source": [
    "import numpy as np\n",
    "import csv\n",
    "\n",
    "sensor_codes = [np.random.randint(0,2) for i in range(4)]\n",
    "if sensor_codes[1] == 1:\n",
    "    sensor_codes[2] = 1\n",
    "\n",
    "explore = [np.random.randint(0,2) for i in range(3)]\n",
    "wander = [np.random.randint(0,2) for i in range(2)]\n",
    "expression = [np.random.randint(0,2) for i in range(3)]\n",
    "\n",
    "def subsumption_check(explore,wander,expression):\n",
    "    if explore == [0,0,0]:\n",
    "        wander = [1,1]\n",
    "    if wander == [0,0]:\n",
    "        expression = [1,1,1]\n",
    "    return explore,wander,expression\n",
    "\n",
    "launch_node = []\n",
    "\n",
    "explore_codes, wander_codes , expression_codes = subsumption_check(explore,wander,expression)\n",
    "\n",
    "explore_nodes  = [\"A\",\"B\",\"C\"]\n",
    "\n",
    "\n",
    "for i in range(len(explore_codes)):\n",
    "    if explore_codes[i] == 1:\n",
    "        launch_node = np.append(launch_node,explore_nodes[i])\n",
    "\n",
    "print(explore_codes)\n",
    "launch_node = launch_node.tolist()\n",
    "launch_node = launch_node + [2,1]\n",
    "with open('/home/tnoin/codes/subsumption/testdata.csv','a') as f:\n",
    "    writer = csv.writer(f)\n",
    "    writer.writerow(launch_node)\n",
    "print(launch_node,type(launch_node))"
   ]
  },
  {
   "cell_type": "code",
   "execution_count": null,
   "metadata": {},
   "outputs": [],
   "source": []
  }
 ],
 "metadata": {
  "kernelspec": {
   "display_name": "Python 3.10.4 64-bit",
   "language": "python",
   "name": "python3"
  },
  "language_info": {
   "codemirror_mode": {
    "name": "ipython",
    "version": 3
   },
   "file_extension": ".py",
   "mimetype": "text/x-python",
   "name": "python",
   "nbconvert_exporter": "python",
   "pygments_lexer": "ipython3",
   "version": "3.10.4"
  },
  "orig_nbformat": 4,
  "vscode": {
   "interpreter": {
    "hash": "916dbcbb3f70747c44a77c7bcd40155683ae19c65e1c03b4aa3499c5328201f1"
   }
  }
 },
 "nbformat": 4,
 "nbformat_minor": 2
}
